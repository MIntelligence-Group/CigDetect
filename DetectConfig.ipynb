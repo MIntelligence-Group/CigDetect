{
  "nbformat": 4,
  "nbformat_minor": 0,
  "metadata": {
    "colab": {
      "name": "DetectConfig.ipynb",
      "provenance": []
    },
    "kernelspec": {
      "name": "python3",
      "display_name": "Python 3"
    }
  },
  "cells": [
    {
      "cell_type": "code",
      "metadata": {
        "id": "JBH46INmwtix"
      },
      "source": [
        "!apt update\r\n",
        "!apt upgrade -y\r\n",
        "!uname -m && cat /etc/*release\r\n",
        "!gcc --version\r\n",
        "!uname -r\r\n",
        "\r\n",
        "%cd drive//My Drive//\r\n",
        "!ls -a \"//content//drive//My Drive//\""
      ],
      "execution_count": null,
      "outputs": []
    },
    {
      "cell_type": "code",
      "metadata": {
        "id": "3V_02NgcxEqv"
      },
      "source": [
        "!git clone https://github.com/AlexeyAB/darknet/\r\n",
        "%cd darknet"
      ],
      "execution_count": null,
      "outputs": []
    },
    {
      "cell_type": "code",
      "metadata": {
        "id": "IwO-er_yxBw4"
      },
      "source": [
        "!apt install libopencv-dev python-opencv ffmpeg"
      ],
      "execution_count": null,
      "outputs": []
    },
    {
      "cell_type": "code",
      "metadata": {
        "id": "8agakZADw8as"
      },
      "source": [
        "!sed -i 's/OPENCV=0/OPENCV=1/g' Makefile\r\n",
        "!sed -i 's/GPU=0/GPU=1/g' Makefile\r\n",
        "!sed -i 's/CUDNN=0/CUDNN=1/g' Makefile\r\n",
        "%pycat Makefile"
      ],
      "execution_count": null,
      "outputs": []
    },
    {
      "cell_type": "code",
      "metadata": {
        "id": "iNAwsBN7w8rB"
      },
      "source": [
        "!make"
      ],
      "execution_count": null,
      "outputs": []
    },
    {
      "cell_type": "code",
      "metadata": {
        "id": "heixdTrTw8vJ"
      },
      "source": [
        "%pycat cfg/yolo-obj.cfg"
      ],
      "execution_count": null,
      "outputs": []
    }
  ]
}