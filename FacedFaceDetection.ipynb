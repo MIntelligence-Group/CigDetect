{
  "nbformat": 4,
  "nbformat_minor": 0,
  "metadata": {
    "colab": {
      "name": "FacedFaceDetection.ipynb",
      "provenance": []
    },
    "kernelspec": {
      "name": "python3",
      "display_name": "Python 3"
    }
  },
  "cells": [
    {
      "cell_type": "code",
      "metadata": {
        "id": "sx9ePXlNyDhT"
      },
      "source": [
        "%cd /content/drive/My Drive/\r\n",
        "%pip install git+https://github.com/iitzco/faced.git"
      ],
      "execution_count": null,
      "outputs": []
    },
    {
      "cell_type": "code",
      "metadata": {
        "id": "g04dGi3gylbj"
      },
      "source": [
        "import cv2\r\n",
        "import matplotlib.pyplot as plt\r\n",
        "from faced import FaceDetector\r\n",
        "from faced.utils import annotate_image\r\n",
        "\r\n",
        "face_detector = FaceDetector()\r\n",
        "\r\n",
        "img = cv2.imread('/content/drive/My Drive/SmokerDet/OutputsOfYolo/OnCropped/SmokingFalse/0-smoking_0551pred.jpg')\r\n",
        "rgb_img = cv2.cvtColor(img.copy(), cv2.COLOR_BGR2RGB)\r\n",
        "sh_im=img.copy()\r\n",
        "# Receives RGB numpy image (HxWxC) and\r\n",
        "# returns (x_center, y_center, width, height, prob) tuples. \r\n",
        "bboxes = face_detector.predict(rgb_img, 0.5)\r\n",
        "\r\n",
        "# Use this utils function to annotate the image.\r\n",
        "ann_img = annotate_image(img, bboxes)\r\n",
        "print(bboxes)\r\n",
        "crop_im=img[int(bboxes[0][1]-bboxes[0][3]/2):int(bboxes[0][0]-bboxes[0][2]/2),int(bboxes[0][1]+bboxes[0][3]/2):int(bboxes[0][0]+bboxes[0][2]/2)]\r\n",
        "print(img.shape)\r\n",
        "print(crop_im.shape)\r\n",
        "\r\n",
        "top_left_y=int(bboxes[0][1]-bboxes[0][3]/2)\r\n",
        "top_left_x=int(bboxes[0][0]-bboxes[0][2]/2)\r\n",
        "x1=0\r\n",
        "y1=0\r\n",
        "for i in range(top_left_x,crop_im.shape[1]):\r\n",
        "  for j in range(top_left_y,crop_im.shape[0]):\r\n",
        "    sh_im[i][j]=crop_im[x1][y1]\r\n",
        "    x1=x1+1\r\n",
        "    y1=y1+1\r\n",
        "# Show the image\r\n",
        "plt.imshow(sh_im)\r\n",
        "plt.show()\r\n",
        "#cv2.waitKey(0)\r\n",
        "#cv2.destroyAllWindows()"
      ],
      "execution_count": null,
      "outputs": []
    },
    {
      "cell_type": "code",
      "metadata": {
        "id": "HzmG3v9hzLG1"
      },
      "source": [
        "import cv2\r\n",
        "import os\r\n",
        "import matplotlib.pyplot as plt\r\n",
        "\r\n",
        "from faced import FaceDetector\r\n",
        "from faced.utils import annotate_image\r\n",
        "\r\n",
        "face_detector = FaceDetector()\r\n",
        "\r\n",
        "for i in os.listdir('//content//drive//My Drive//SmokerDet//OutputsOfYolo//BetterWithCropped//'):\r\n",
        "  if i.endswith('Original.jpg'):\r\n",
        "    img1=cv2.imread('//content//drive//My Drive//SmokerDet//OutputsOfYolo//BetterWithCropped//'+i)\r\n",
        "  else:\r\n",
        "    continue\r\n",
        "  img=img1.copy()\r\n",
        "  rgb_img = cv2.cvtColor(img.copy(), cv2.COLOR_BGR2RGB)\r\n",
        "\r\n",
        "  # Receives RGB numpy image (HxWxC) and\r\n",
        "  # returns (x_center, y_center, width, height, prob) tuples. \r\n",
        "  bboxes = face_detector.predict(rgb_img, 0.7)\r\n",
        "\r\n",
        "  # Use this utils function to annotate the image.\r\n",
        "  ann_img = annotate_image(img, bboxes)\r\n",
        "\r\n",
        "  # Show the image\r\n",
        "  plt.imshow(ann_img)\r\n",
        "  print(bboxes)\r\n",
        "\r\n",
        "  modified=img1\r\n",
        "  y_max,x_max,dim=modified.shape\r\n",
        "\r\n",
        "  for x, y, w, h, p in bboxes:\r\n",
        "    x1=in_xrange(int(x-w),x_max)\r\n",
        "    y1=in_yrange(int(y),y_max)\r\n",
        "    x2=in_xrange(int(x+w),x_max)\r\n",
        "    y2=in_yrange(int(y+4*h/5),y_max)\r\n",
        "    cv2.rectangle(modified, (x1, y1), (x2, y2), (0, 255, 0), 3)\r\n",
        "    #cv2.rectangle(rgb_img, (int(x - w/2), int(y - h/2)), (int(x + w/2), int(y + h/2)), (0, 255, 0), 3)\r\n",
        "    savingpath='//content//drive//My Drive//SmokerDet//Faced_Outputs_BetterWithCropped//'+i\r\n",
        "    savingpath1='//content//drive//My Drive//SmokerDet//Faced_Outputs_BetterWithCropped//'+i.split('.')[0]+'_Full.jpg'\r\n",
        "    savingpath2='//content//drive//My Drive//SmokerDet//Faced_Cropped//'+i.split('.')[0]+'_Cropped.jpg'\r\n",
        "    im2=modified[y1:y2,x1:x2]\r\n",
        "    #plt.imshow(im2)\r\n",
        "  #cv2.imwrite(savingpath,modified)\r\n",
        "  #cv2.imwrite(savingpath1,ann_img)\r\n",
        "  cv2.imwrite(savingpath2,im2)"
      ],
      "execution_count": null,
      "outputs": []
    },
    {
      "cell_type": "code",
      "metadata": {
        "id": "5vNbwY5gyoVj"
      },
      "source": [
        "def in_xrange(x,max_x):\r\n",
        "  if x<0:\r\n",
        "    return 0\r\n",
        "  elif x>max_x:\r\n",
        "    return max_x\r\n",
        "  else:\r\n",
        "    return x\r\n",
        "def in_yrange(y,max_y):\r\n",
        "  if y<0:\r\n",
        "    return 0\r\n",
        "  elif y>max_y:\r\n",
        "    return max_y\r\n",
        "  else:\r\n",
        "    return y"
      ],
      "execution_count": null,
      "outputs": []
    }
  ]
}