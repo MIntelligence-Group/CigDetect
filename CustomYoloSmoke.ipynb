{
  "nbformat": 4,
  "nbformat_minor": 0,
  "metadata": {
    "colab": {
      "name": "CustomYoloSmoke.ipynb",
      "provenance": []
    },
    "kernelspec": {
      "name": "python3",
      "display_name": "Python 3"
    }
  },
  "cells": [
    {
      "cell_type": "code",
      "metadata": {
        "id": "eA1vRUaoxqu8"
      },
      "source": [
        "all_classes = \"\"\"Smoking\r\n",
        "\"\"\"\r\n",
        "\r\n",
        "file = \"\"\"text_file = open(\"build/darknet/x64/data/obj.names\", \"w\");text_file.write(all_classes);text_file.close()\"\"\" \r\n",
        "\r\n",
        "exec(file)\r\n",
        "%pycat build/darknet/x64/data/obj.names\r\n",
        "\r\n",
        "obj_data = \"\"\"classes= 1\r\n",
        "train  = build/darknet/x64/data/train.txt\r\n",
        "valid  = build/darknet/x64/data/valid.txt\r\n",
        "names = build/darknet/x64/data/obj.names\r\n",
        "backup = build/darknet/x64/backup/\r\n",
        "\"\"\"\r\n",
        "\r\n",
        "file = \"\"\"text_file = open(\"build/darknet/x64/data/obj.data\", \"w\");text_file.write(obj_data);text_file.close()\"\"\" \r\n",
        "\r\n",
        "exec(file)\r\n",
        "%pycat build/darknet/x64/data/obj.data\r\n",
        "\r\n",
        "%mkdir build/darknet/x64/data/obj\r\n",
        "%cp -r \"//content//drive/My Drive//SmokerDet//Smoker_dataset_Use//.\" build/darknet/x64/data/obj/\r\n",
        "\r\n",
        "%ls -1 build/darknet/x64/data/obj/*.jpg | wc -l\r\n",
        "%ls -1 build/darknet/x64/data/obj/*.txt | wc -l"
      ],
      "execution_count": null,
      "outputs": []
    },
    {
      "cell_type": "code",
      "metadata": {
        "id": "8yBwmIEnx5hv"
      },
      "source": [
        "import os, fnmatch\r\n",
        "import numpy as np\r\n",
        "\r\n",
        "train_file = open(\"build/darknet/x64/data/train.txt\", \"w\")\r\n",
        "valid_file = open(\"build/darknet/x64/data/valid.txt\", \"w\")\r\n",
        "listOfFiles = os.listdir('build/darknet/x64/data/obj/')  \r\n",
        "pattern = \"*.jpg\"  \r\n",
        "for f_name in listOfFiles:  \r\n",
        "  if fnmatch.fnmatch(f_name, pattern):\r\n",
        "    if np.random.rand(1) < 0.9:\r\n",
        "      train_file.write(\"build/darknet/x64/data/obj/\"+f_name+\"\\n\")\r\n",
        "      #print (\"data/obj/\"+f_name)\r\n",
        "    else:\r\n",
        "      valid_file.write(\"build/darknet/x64/data/obj/\"+f_name+\"\\n\")  \r\n",
        "      \r\n",
        "train_file.close()\r\n",
        "valid_file.close()\r\n",
        "\r\n",
        "#Count number of files \r\n",
        "!wc -l build/darknet/x64/data/train.txt\r\n",
        "!wc -l build/darknet/x64/data/valid.txt"
      ],
      "execution_count": null,
      "outputs": []
    },
    {
      "cell_type": "code",
      "metadata": {
        "id": "xlc3lNL6x0Ag"
      },
      "source": [
        "%pycat build/darknet/x64/data/valid.txt"
      ],
      "execution_count": null,
      "outputs": []
    },
    {
      "cell_type": "code",
      "metadata": {
        "id": "AHlU8QUkx0FE"
      },
      "source": [
        "!wget -P build/darknet/x64/ https://pjreddie.com/media/files/darknet53.conv.74\r\n",
        "#%ls build/darknet/x64/"
      ],
      "execution_count": null,
      "outputs": []
    },
    {
      "cell_type": "code",
      "metadata": {
        "id": "yF9VxOzEx0KK"
      },
      "source": [
        "!./darknet detector train build/darknet/x64/data/obj.data cfg/yolo-obj.cfg build"
      ],
      "execution_count": null,
      "outputs": []
    },
    {
      "cell_type": "code",
      "metadata": {
        "id": "AoxtfNCYyJS6"
      },
      "source": [
        "%cd /content/drive/My Drive\r\n",
        "%cd darknet_temp/\r\n",
        "!chmod +x ./darknet\r\n",
        "!./darknet detector test build/darknet/x64/data/obj.data cfg/yolo-obj.cfg \"build//darknet//x64//backup//yolo-obj_2000.weights\" -thresh 0.20 build/darknet/x64/data/obj/smoking_0002.jpg"
      ],
      "execution_count": null,
      "outputs": []
    },
    {
      "cell_type": "code",
      "metadata": {
        "id": "k0VH-KczyKUt"
      },
      "source": [
        "#download files\r\n",
        "def imShow(path):\r\n",
        "  import cv2\r\n",
        "  import matplotlib.pyplot as plt\r\n",
        "  %matplotlib inline\r\n",
        "\r\n",
        "  image = cv2.imread(path)\r\n",
        "  height, width = image.shape[:2]\r\n",
        "  resized_image = cv2.resize(image,(3*width, 3*height), interpolation = cv2.INTER_CUBIC)\r\n",
        "\r\n",
        "  fig = plt.gcf()\r\n",
        "  fig.set_size_inches(18, 10)\r\n",
        "  plt.axis(\"off\")\r\n",
        "  #plt.rcParams['figure.figsize'] = [10, 5]\r\n",
        "  plt.imshow(cv2.cvtColor(resized_image, cv2.COLOR_BGR2RGB))\r\n",
        "  plt.show()\r\n",
        "  \r\n",
        "  \r\n",
        "def upload():\r\n",
        "  from google.colab import files\r\n",
        "  uploaded = files.upload() \r\n",
        "  for name, data in uploaded.items():\r\n",
        "    with open(name, 'wb') as f:\r\n",
        "      f.write(data)\r\n",
        "      print ('saved file', name)\r\n",
        "def download(path):\r\n",
        "  from google.colab import files\r\n",
        "  files.download(path)"
      ],
      "execution_count": null,
      "outputs": []
    },
    {
      "cell_type": "code",
      "metadata": {
        "id": "R78gsfkAySvR"
      },
      "source": [
        "imShow('predictions.jpg')"
      ],
      "execution_count": null,
      "outputs": []
    }
  ]
}